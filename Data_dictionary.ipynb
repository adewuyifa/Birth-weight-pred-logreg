{
 "cells": [
  {
   "cell_type": "markdown",
   "id": "68be5083-debc-4138-8072-21f0aadd8c70",
   "metadata": {},
   "source": [
    "### Data dictionary"
   ]
  },
  {
   "cell_type": "markdown",
   "id": "730ab166-cefd-43da-a866-7c6056c05665",
   "metadata": {
    "tags": []
   },
   "source": [
    "- LOW: Low birth weight (0=No (birth weight >= 2500 g) 1=Yes (birth weight < 2500 g)\n",
    "- AGE: Age of mother (in years)\n",
    "- LWT: Weight of mother at the last menstrual period (in pounds)\n",
    "- RACE: Race of mother (1=White, 2=Black, 3=Other)\n",
    "- SMOKE: Smoking status during pregnancy (0=No, 1=Yes)\n",
    "- PTL: History of premature labor (0=None, 1=One, etc.)\n",
    "- HT: History of hypertension (0=No, 1=Yes)\n",
    "- UI: Presence of uterine irritability (0=No, 1=Yes)\n",
    "- FTV: Number of physician visits during the first trimester\n",
    "- BWT: The actual birth weight (in grams)"
   ]
  },
  {
   "cell_type": "code",
   "execution_count": null,
   "id": "8fcdf832-1a5c-43a6-ba31-a1e7f4b34274",
   "metadata": {},
   "outputs": [],
   "source": []
  }
 ],
 "metadata": {
  "kernelspec": {
   "display_name": "Python 3 (ipykernel)",
   "language": "python",
   "name": "python3"
  },
  "language_info": {
   "codemirror_mode": {
    "name": "ipython",
    "version": 3
   },
   "file_extension": ".py",
   "mimetype": "text/x-python",
   "name": "python",
   "nbconvert_exporter": "python",
   "pygments_lexer": "ipython3",
   "version": "3.9.12"
  }
 },
 "nbformat": 4,
 "nbformat_minor": 5
}
