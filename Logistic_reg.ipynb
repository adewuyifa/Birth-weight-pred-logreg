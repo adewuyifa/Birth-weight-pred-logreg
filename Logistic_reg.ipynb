{
 "cells": [
  {
   "cell_type": "code",
   "execution_count": 1,
   "id": "881f6fab-93f8-4985-9a33-cab7351e1fe9",
   "metadata": {},
   "outputs": [],
   "source": [
    "import pandas as pd\n",
    "import seaborn as sns\n",
    "import matplotlib.pyplot as plt\n",
    "import numpy as np\n",
    "from sklearn.linear_model import LogisticRegression\n",
    "from sklearn.model_selection import train_test_split\n",
    "from sklearn.pipeline import make_pipeline\n",
    "from sklearn.utils.validation import check_is_fitted\n",
    "from category_encoders import OneHotEncoder"
   ]
  },
  {
   "cell_type": "markdown",
   "id": "914be71b-75e5-49c6-85fb-a1e66b81057e",
   "metadata": {},
   "source": [
    "## Prepare data"
   ]
  },
  {
   "cell_type": "markdown",
   "id": "a54744de-c780-4056-81fb-f349562a27a1",
   "metadata": {},
   "source": [
    "### Import"
   ]
  },
  {
   "cell_type": "code",
   "execution_count": 2,
   "id": "bdd27bb7-1371-4dc6-95bc-0e817f7075bf",
   "metadata": {},
   "outputs": [],
   "source": [
    "def wrangle(filepath):\n",
    "    df = pd.read_excel(filepath)\n",
    "    \n",
    "    #Drop leaky column\n",
    "    df.drop(columns=\"BWT\", inplace=True)\n",
    "    \n",
    "    #Rename columns\n",
    "    df. columns =[\"Birth_weight\", \"Age\", \"Mother_weight\", \"Race\", \"Smoking_status\",\n",
    "                  \"History_of_premature_labor\", \"History_of_Hypertension\", \"Presence_of_uterine_irritability\", \"Physician_visits\"]\n",
    "    \n",
    "    #Rename values in categorical variables columns\n",
    "    df[\"Race\"] = df[\"Race\"].map({1:\"White\", 2:\"Black\", 3:\"Others\"})\n",
    "    df[\"Smoking_status\"] = df[\"Smoking_status\"].map({0:\"No\", 1:\"Yes\"})\n",
    "    df[\"History_of_Hypertension\"] = df[\"History_of_Hypertension\"].map({0:\"No\", 1:\"Yes\"})\n",
    "    df[\"Presence_of_uterine_irritability\"] = df[\"Presence_of_uterine_irritability\"].map({0:\"No\", 1:\"Yes\"})\n",
    "    \n",
    "    return df"
   ]
  },
  {
   "cell_type": "code",
   "execution_count": 3,
   "id": "0c10c3a4-d527-4829-91e6-b7872bf19ecc",
   "metadata": {},
   "outputs": [
    {
     "data": {
      "text/html": [
       "<div>\n",
       "<style scoped>\n",
       "    .dataframe tbody tr th:only-of-type {\n",
       "        vertical-align: middle;\n",
       "    }\n",
       "\n",
       "    .dataframe tbody tr th {\n",
       "        vertical-align: top;\n",
       "    }\n",
       "\n",
       "    .dataframe thead th {\n",
       "        text-align: right;\n",
       "    }\n",
       "</style>\n",
       "<table border=\"1\" class=\"dataframe\">\n",
       "  <thead>\n",
       "    <tr style=\"text-align: right;\">\n",
       "      <th></th>\n",
       "      <th>Birth_weight</th>\n",
       "      <th>Age</th>\n",
       "      <th>Mother_weight</th>\n",
       "      <th>Race</th>\n",
       "      <th>Smoking_status</th>\n",
       "      <th>History_of_premature_labor</th>\n",
       "      <th>History_of_Hypertension</th>\n",
       "      <th>Presence_of_uterine_irritability</th>\n",
       "      <th>Physician_visits</th>\n",
       "    </tr>\n",
       "  </thead>\n",
       "  <tbody>\n",
       "    <tr>\n",
       "      <th>0</th>\n",
       "      <td>0</td>\n",
       "      <td>29</td>\n",
       "      <td>140</td>\n",
       "      <td>White</td>\n",
       "      <td>Yes</td>\n",
       "      <td>0</td>\n",
       "      <td>No</td>\n",
       "      <td>No</td>\n",
       "      <td>2</td>\n",
       "    </tr>\n",
       "    <tr>\n",
       "      <th>1</th>\n",
       "      <td>0</td>\n",
       "      <td>32</td>\n",
       "      <td>132</td>\n",
       "      <td>White</td>\n",
       "      <td>No</td>\n",
       "      <td>0</td>\n",
       "      <td>No</td>\n",
       "      <td>No</td>\n",
       "      <td>4</td>\n",
       "    </tr>\n",
       "    <tr>\n",
       "      <th>2</th>\n",
       "      <td>0</td>\n",
       "      <td>36</td>\n",
       "      <td>175</td>\n",
       "      <td>White</td>\n",
       "      <td>No</td>\n",
       "      <td>0</td>\n",
       "      <td>No</td>\n",
       "      <td>No</td>\n",
       "      <td>0</td>\n",
       "    </tr>\n",
       "    <tr>\n",
       "      <th>3</th>\n",
       "      <td>1</td>\n",
       "      <td>14</td>\n",
       "      <td>100</td>\n",
       "      <td>Others</td>\n",
       "      <td>No</td>\n",
       "      <td>0</td>\n",
       "      <td>No</td>\n",
       "      <td>No</td>\n",
       "      <td>2</td>\n",
       "    </tr>\n",
       "    <tr>\n",
       "      <th>4</th>\n",
       "      <td>0</td>\n",
       "      <td>25</td>\n",
       "      <td>130</td>\n",
       "      <td>White</td>\n",
       "      <td>No</td>\n",
       "      <td>0</td>\n",
       "      <td>No</td>\n",
       "      <td>No</td>\n",
       "      <td>2</td>\n",
       "    </tr>\n",
       "  </tbody>\n",
       "</table>\n",
       "</div>"
      ],
      "text/plain": [
       "   Birth_weight  Age  Mother_weight    Race Smoking_status  \\\n",
       "0             0   29            140   White            Yes   \n",
       "1             0   32            132   White             No   \n",
       "2             0   36            175   White             No   \n",
       "3             1   14            100  Others             No   \n",
       "4             0   25            130   White             No   \n",
       "\n",
       "   History_of_premature_labor History_of_Hypertension  \\\n",
       "0                           0                      No   \n",
       "1                           0                      No   \n",
       "2                           0                      No   \n",
       "3                           0                      No   \n",
       "4                           0                      No   \n",
       "\n",
       "  Presence_of_uterine_irritability  Physician_visits  \n",
       "0                               No                 2  \n",
       "1                               No                 4  \n",
       "2                               No                 0  \n",
       "3                               No                 2  \n",
       "4                               No                 2  "
      ]
     },
     "execution_count": 3,
     "metadata": {},
     "output_type": "execute_result"
    }
   ],
   "source": [
    "df = wrangle(\"data/low_birth_weight.xls\")\n",
    "df.head()"
   ]
  },
  {
   "cell_type": "markdown",
   "id": "714de66f-bba5-4496-a297-e3429fe58f4f",
   "metadata": {},
   "source": [
    "### Explore"
   ]
  },
  {
   "cell_type": "code",
   "execution_count": 57,
   "id": "6b0a2d2a-cdce-4386-8f4f-ecdde07ecc89",
   "metadata": {},
   "outputs": [
    {
     "data": {
      "text/plain": [
       "75"
      ]
     },
     "execution_count": 57,
     "metadata": {},
     "output_type": "execute_result"
    }
   ],
   "source": [
    "df[\"Mother_weight\"].()"
   ]
  },
  {
   "cell_type": "code",
   "execution_count": 5,
   "id": "17d15ac0-b43a-4dd2-80a6-acb40c77e356",
   "metadata": {},
   "outputs": [
    {
     "data": {
      "image/png": "[encoded data removed]",
      "text/plain": [
       "<Figure size 432x288 with 2 Axes>"
      ]
     },
     "metadata": {
      "needs_background": "light"
     },
     "output_type": "display_data"
    }
   ],
   "source": [
    "#Create correlation matrix\n",
    "correlation = df.select_dtypes(\"number\").drop(columns=\"Birth_weight\").corr()\n",
    "#Plot heatmap\n",
    "sns.heatmap(correlation);"
   ]
  },
  {
   "cell_type": "code",
   "execution_count": 7,
   "id": "061066b7-5943-4189-aa4d-ba8ada93dc75",
   "metadata": {},
   "outputs": [
    {
     "data": {
      "image/png": "[encoded data removed]",
      "text/plain": [
       "<Figure size 432x288 with 1 Axes>"
      ]
     },
     "metadata": {
      "needs_background": "light"
     },
     "output_type": "display_data"
    }
   ],
   "source": [
    "sns.boxplot(x=\"Birth_weight\", y=\"Mother_weight\", data=df)\n",
    "# Label axes\n",
    "plt.xlabel(\"Birth_weight\")\n",
    "plt.ylabel(\"Weight of mother at the last menstrual period (in pounds)\")\n",
    "plt.title(\"Distribution of Birth weight by Mother's Weight\");"
   ]
  },
  {
   "cell_type": "code",
   "execution_count": 8,
   "id": "4f9cacfe-2473-47ff-b225-4fa7745fc7e3",
   "metadata": {},
   "outputs": [
    {
     "data": {
      "image/png": "[encoded data removed]",
      "text/plain": [
       "<Figure size 432x288 with 1 Axes>"
      ]
     },
     "metadata": {
      "needs_background": "light"
     },
     "output_type": "display_data"
    }
   ],
   "source": [
    "#Check the class balance\n",
    "df[\"Birth_weight\"].value_counts(normalize=True).plot(\n",
    "    kind=\"bar\", xlabel=\"Class\", ylabel=\"Relative Frequency\", title=\"Class Balance\"\n",
    ");"
   ]
  },
  {
   "cell_type": "code",
   "execution_count": 9,
   "id": "77b382f5-508b-4f59-a93b-5e1e320ee551",
   "metadata": {},
   "outputs": [
    {
     "name": "stdout",
     "output_type": "stream",
     "text": [
      "0.6878306878306878 0.31216931216931215\n"
     ]
    }
   ],
   "source": [
    "#Create two variables to store the normalized value counts for the two classes in df[\"Birth_weight\"]\n",
    "majority_class_prop, minority_class_prop = df[\"Birth_weight\"].value_counts(normalize=True)\n",
    "print(majority_class_prop, minority_class_prop)"
   ]
  },
  {
   "cell_type": "markdown",
   "id": "d1a6fa18-5700-4eb7-9af4-6471d56c35af",
   "metadata": {},
   "source": [
    "Are babies born to women of certain races more likely to suffer low birth weight?  I'll create a pivot table to find out"
   ]
  },
  {
   "cell_type": "code",
   "execution_count": 10,
   "id": "2a15c25e-0642-4727-beb3-200f00fcccdb",
   "metadata": {},
   "outputs": [
    {
     "data": {
      "text/html": [
       "<div>\n",
       "<style scoped>\n",
       "    .dataframe tbody tr th:only-of-type {\n",
       "        vertical-align: middle;\n",
       "    }\n",
       "\n",
       "    .dataframe tbody tr th {\n",
       "        vertical-align: top;\n",
       "    }\n",
       "\n",
       "    .dataframe thead th {\n",
       "        text-align: right;\n",
       "    }\n",
       "</style>\n",
       "<table border=\"1\" class=\"dataframe\">\n",
       "  <thead>\n",
       "    <tr style=\"text-align: right;\">\n",
       "      <th></th>\n",
       "      <th>Birth_weight</th>\n",
       "    </tr>\n",
       "    <tr>\n",
       "      <th>Race</th>\n",
       "      <th></th>\n",
       "    </tr>\n",
       "  </thead>\n",
       "  <tbody>\n",
       "    <tr>\n",
       "      <th>White</th>\n",
       "      <td>0.239583</td>\n",
       "    </tr>\n",
       "    <tr>\n",
       "      <th>Others</th>\n",
       "      <td>0.373134</td>\n",
       "    </tr>\n",
       "    <tr>\n",
       "      <th>Black</th>\n",
       "      <td>0.423077</td>\n",
       "    </tr>\n",
       "  </tbody>\n",
       "</table>\n",
       "</div>"
      ],
      "text/plain": [
       "        Birth_weight\n",
       "Race                \n",
       "White       0.239583\n",
       "Others      0.373134\n",
       "Black       0.423077"
      ]
     },
     "execution_count": 10,
     "metadata": {},
     "output_type": "execute_result"
    }
   ],
   "source": [
    "#Create Pivot table\n",
    "race_pivot = pd.pivot_table(\n",
    "    df, index=\"Race\", values= \"Birth_weight\", aggfunc=np.mean\n",
    ").sort_values(by=\"Birth_weight\")\n",
    "race_pivot"
   ]
  },
  {
   "cell_type": "code",
   "execution_count": 11,
   "id": "9f3b29a2-075c-4312-b21d-b4e4d06e7465",
   "metadata": {},
   "outputs": [
    {
     "data": {
      "image/png": "[encoded data removed]",
      "text/plain": [
       "<Figure size 432x288 with 1 Axes>"
      ]
     },
     "metadata": {
      "needs_background": "light"
     },
     "output_type": "display_data"
    }
   ],
   "source": [
    "# Plot bar chart of `race_pivot`\n",
    "race_pivot.plot(kind=\"barh\")\n",
    "plt.axvline(\n",
    "    majority_class_prop, linestyle=\"--\", color=\"red\", label=\"majority class\"\n",
    ")\n",
    "plt.axvline(\n",
    "   minority_class_prop, linestyle=\"--\", color=\"green\", label=\"minority class\"\n",
    ")\n",
    "plt.legend(loc=\"lower right\");"
   ]
  },
  {
   "cell_type": "code",
   "execution_count": 12,
   "id": "28d6fd32-6a54-43a7-91f5-afc91756af30",
   "metadata": {},
   "outputs": [
    {
     "data": {
      "text/plain": [
       "Race                                3\n",
       "Smoking_status                      2\n",
       "History_of_Hypertension             2\n",
       "Presence_of_uterine_irritability    2\n",
       "dtype: int64"
      ]
     },
     "execution_count": 12,
     "metadata": {},
     "output_type": "execute_result"
    }
   ],
   "source": [
    "# Check for high- and low-cardinality categorical features\n",
    "df.select_dtypes(\"object\").nunique()"
   ]
  },
  {
   "cell_type": "markdown",
   "id": "440bf787-658d-463b-9dcb-a2f5faf70d4a",
   "metadata": {},
   "source": [
    "## Split"
   ]
  },
  {
   "cell_type": "code",
   "execution_count": 13,
   "id": "12799176-6eb8-412f-9fb3-d2d42e0539b9",
   "metadata": {},
   "outputs": [],
   "source": [
    "target=\"Birth_weight\"\n",
    "X = df.drop(columns=target)\n",
    "y = df[target]"
   ]
  },
  {
   "cell_type": "code",
   "execution_count": 14,
   "id": "b299e405-2461-4ecf-8341-8b5e27d3c4a1",
   "metadata": {},
   "outputs": [
    {
     "name": "stdout",
     "output_type": "stream",
     "text": [
      "X_train shape: (151, 8)\n",
      "y_train shape: (151,)\n",
      "X_test shape: (38, 8)\n",
      "y_test shape: (38,)\n"
     ]
    }
   ],
   "source": [
    "X_train, X_test, y_train, y_test = train_test_split(\n",
    "    X, y, test_size=0.2, random_state=42\n",
    ")\n",
    "\n",
    "print(\"X_train shape:\", X_train.shape)\n",
    "print(\"y_train shape:\", y_train.shape)\n",
    "print(\"X_test shape:\", X_test.shape)\n",
    "print(\"y_test shape:\", y_test.shape)"
   ]
  },
  {
   "cell_type": "markdown",
   "id": "d256908a-a0ba-4d36-bec2-4f8493d58a32",
   "metadata": {},
   "source": [
    "## Build Model"
   ]
  },
  {
   "cell_type": "markdown",
   "id": "d5cd3ec6-c0fd-40c2-948c-b9395a01e8e2",
   "metadata": {},
   "source": [
    "### Baseline"
   ]
  },
  {
   "cell_type": "code",
   "execution_count": 15,
   "id": "c3661924-0523-4726-abd7-d373ef433d06",
   "metadata": {},
   "outputs": [
    {
     "name": "stdout",
     "output_type": "stream",
     "text": [
      "Baseline Accuracy: 0.66\n"
     ]
    }
   ],
   "source": [
    "acc_baseline = y_train.value_counts(normalize=True).max()\n",
    "print(\"Baseline Accuracy:\", round(acc_baseline, 2))"
   ]
  },
  {
   "cell_type": "markdown",
   "id": "04641253-59b5-4605-a861-9ee677f62244",
   "metadata": {},
   "source": [
    "### Iterate"
   ]
  },
  {
   "cell_type": "code",
   "execution_count": 16,
   "id": "8ade59b9-897d-4bd7-b264-eb4d2c2110e3",
   "metadata": {},
   "outputs": [
    {
     "name": "stderr",
     "output_type": "stream",
     "text": [
      "C:\\Users\\Virtues\\miniconda3\\envs\\geo_ds\\lib\\site-packages\\category_encoders\\utils.py:21: FutureWarning: is_categorical is deprecated and will be removed in a future version. Use is_categorical_dtype instead.\n",
      "  elif pd.api.types.is_categorical(cols):\n"
     ]
    },
    {
     "data": {
      "text/plain": [
       "Pipeline(steps=[('onehotencoder',\n",
       "                 OneHotEncoder(cols=['Race', 'Smoking_status',\n",
       "                                     'History_of_Hypertension',\n",
       "                                     'Presence_of_uterine_irritability'],\n",
       "                               use_cat_names=True)),\n",
       "                ('logisticregression', LogisticRegression(max_iter=1000))])"
      ]
     },
     "execution_count": 16,
     "metadata": {},
     "output_type": "execute_result"
    }
   ],
   "source": [
    "#Build model\n",
    "model = make_pipeline(\n",
    "    OneHotEncoder(use_cat_names=True),\n",
    "    LogisticRegression(max_iter=1000)\n",
    ")\n",
    "#Fit model to training data\n",
    "model.fit(X_train, y_train)"
   ]
  },
  {
   "cell_type": "code",
   "execution_count": 17,
   "id": "ae4cc678-337f-4a7d-a2ca-6830655aaeac",
   "metadata": {},
   "outputs": [],
   "source": [
    "check_is_fitted(model)"
   ]
  },
  {
   "cell_type": "markdown",
   "id": "e014993a-3c3f-46b2-bafa-9a51a7de5d62",
   "metadata": {},
   "source": [
    "## Evaluate"
   ]
  },
  {
   "cell_type": "code",
   "execution_count": 18,
   "id": "ce0e8b96-6edf-498c-9c7e-4db3026996f8",
   "metadata": {},
   "outputs": [
    {
     "name": "stdout",
     "output_type": "stream",
     "text": [
      "Training Accuracy: 0.74\n",
      "Test Accuracy: 0.74\n"
     ]
    }
   ],
   "source": [
    "acc_train = model.score(X_train, y_train)\n",
    "acc_test = model.score(X_test, y_test)\n",
    "\n",
    "print(\"Training Accuracy:\", round(acc_train, 2))\n",
    "print(\"Test Accuracy:\", round(acc_test, 2))"
   ]
  },
  {
   "cell_type": "markdown",
   "id": "4291c088-2786-46e8-950e-569241d9bff5",
   "metadata": {},
   "source": [
    "## Communicate"
   ]
  },
  {
   "cell_type": "code",
   "execution_count": 19,
   "id": "5966bdf7-0160-4e8a-a99e-f4e178a4bcad",
   "metadata": {},
   "outputs": [
    {
     "data": {
      "text/plain": [
       "array([0, 0, 0, 0, 0], dtype=int64)"
      ]
     },
     "execution_count": 19,
     "metadata": {},
     "output_type": "execute_result"
    }
   ],
   "source": [
    "model.predict(X_train)[:5]"
   ]
  },
  {
   "cell_type": "code",
   "execution_count": 20,
   "id": "c1d774c4-9c66-40fc-9ee0-cd5b6d736fc8",
   "metadata": {},
   "outputs": [
    {
     "name": "stdout",
     "output_type": "stream",
     "text": [
      "[[0.76469177 0.23530823]\n",
      " [0.91524365 0.08475635]\n",
      " [0.65677719 0.34322281]\n",
      " [0.83778596 0.16221404]\n",
      " [0.81830257 0.18169743]]\n"
     ]
    }
   ],
   "source": [
    "y_train_pred_proba = model.predict_proba(X_train)\n",
    "print(y_train_pred_proba[:5])"
   ]
  },
  {
   "cell_type": "code",
   "execution_count": 21,
   "id": "c7bac6f5-747a-4c1a-a2b6-ff38b702c169",
   "metadata": {},
   "outputs": [],
   "source": [
    "features = model.named_steps[\"onehotencoder\"].get_feature_names()\n",
    "importances = model.named_steps[\"logisticregression\"].coef_[0]"
   ]
  },
  {
   "cell_type": "code",
   "execution_count": 22,
   "id": "b7ec3a3a-5c66-466e-84eb-53ef00c26dcd",
   "metadata": {},
   "outputs": [
    {
     "data": {
      "text/plain": [
       "History_of_Hypertension_No             0.417609\n",
       "Race_White                             0.536811\n",
       "Presence_of_uterine_irritability_No    0.608152\n",
       "Smoking_status_No                      0.673485\n",
       "Age                                    0.968053\n",
       "dtype: float64"
      ]
     },
     "execution_count": 22,
     "metadata": {},
     "output_type": "execute_result"
    }
   ],
   "source": [
    "odds_ratios = pd.Series(np.exp(importances), index=features).sort_values()\n",
    "odds_ratios.head()"
   ]
  },
  {
   "cell_type": "code",
   "execution_count": 23,
   "id": "2ae9c91b-34ea-46ff-ba07-338defd2d23d",
   "metadata": {},
   "outputs": [
    {
     "data": {
      "image/png": "[encoded data removed]",
      "text/plain": [
       "<Figure size 432x288 with 1 Axes>"
      ]
     },
     "metadata": {
      "needs_background": "light"
     },
     "output_type": "display_data"
    }
   ],
   "source": [
    "odds_ratios.plot(kind = \"barh\")\n",
    "plt.xlabel(\"Odds Ratio\");"
   ]
  },
  {
   "cell_type": "code",
   "execution_count": 25,
   "id": "1bdd7f15-3e8b-49df-99e4-6ffaa57bd51d",
   "metadata": {},
   "outputs": [
    {
     "data": {
      "text/html": [
       "<div>\n",
       "<style scoped>\n",
       "    .dataframe tbody tr th:only-of-type {\n",
       "        vertical-align: middle;\n",
       "    }\n",
       "\n",
       "    .dataframe tbody tr th {\n",
       "        vertical-align: top;\n",
       "    }\n",
       "\n",
       "    .dataframe thead th {\n",
       "        text-align: right;\n",
       "    }\n",
       "</style>\n",
       "<table border=\"1\" class=\"dataframe\">\n",
       "  <thead>\n",
       "    <tr style=\"text-align: right;\">\n",
       "      <th></th>\n",
       "      <th>Age</th>\n",
       "      <th>Mother_weight</th>\n",
       "      <th>Race</th>\n",
       "      <th>Smoking_status</th>\n",
       "      <th>History_of_premature_labor</th>\n",
       "      <th>History_of_Hypertension</th>\n",
       "      <th>Presence_of_uterine_irritability</th>\n",
       "      <th>Physician_visits</th>\n",
       "    </tr>\n",
       "  </thead>\n",
       "  <tbody>\n",
       "    <tr>\n",
       "      <th>35</th>\n",
       "      <td>23</td>\n",
       "      <td>120</td>\n",
       "      <td>Others</td>\n",
       "      <td>No</td>\n",
       "      <td>0</td>\n",
       "      <td>No</td>\n",
       "      <td>No</td>\n",
       "      <td>0</td>\n",
       "    </tr>\n",
       "    <tr>\n",
       "      <th>98</th>\n",
       "      <td>35</td>\n",
       "      <td>170</td>\n",
       "      <td>White</td>\n",
       "      <td>No</td>\n",
       "      <td>1</td>\n",
       "      <td>No</td>\n",
       "      <td>No</td>\n",
       "      <td>1</td>\n",
       "    </tr>\n",
       "    <tr>\n",
       "      <th>104</th>\n",
       "      <td>25</td>\n",
       "      <td>125</td>\n",
       "      <td>Black</td>\n",
       "      <td>No</td>\n",
       "      <td>0</td>\n",
       "      <td>No</td>\n",
       "      <td>No</td>\n",
       "      <td>0</td>\n",
       "    </tr>\n",
       "    <tr>\n",
       "      <th>75</th>\n",
       "      <td>24</td>\n",
       "      <td>116</td>\n",
       "      <td>White</td>\n",
       "      <td>No</td>\n",
       "      <td>0</td>\n",
       "      <td>No</td>\n",
       "      <td>No</td>\n",
       "      <td>1</td>\n",
       "    </tr>\n",
       "    <tr>\n",
       "      <th>93</th>\n",
       "      <td>28</td>\n",
       "      <td>130</td>\n",
       "      <td>Others</td>\n",
       "      <td>No</td>\n",
       "      <td>0</td>\n",
       "      <td>No</td>\n",
       "      <td>No</td>\n",
       "      <td>0</td>\n",
       "    </tr>\n",
       "  </tbody>\n",
       "</table>\n",
       "</div>"
      ],
      "text/plain": [
       "     Age  Mother_weight    Race Smoking_status  History_of_premature_labor  \\\n",
       "35    23            120  Others             No                           0   \n",
       "98    35            170   White             No                           1   \n",
       "104   25            125   Black             No                           0   \n",
       "75    24            116   White             No                           0   \n",
       "93    28            130  Others             No                           0   \n",
       "\n",
       "    History_of_Hypertension Presence_of_uterine_irritability  Physician_visits  \n",
       "35                       No                               No                 0  \n",
       "98                       No                               No                 1  \n",
       "104                      No                               No                 0  \n",
       "75                       No                               No                 1  \n",
       "93                       No                               No                 0  "
      ]
     },
     "execution_count": 25,
     "metadata": {},
     "output_type": "execute_result"
    }
   ],
   "source": [
    "X_train.head()"
   ]
  },
  {
   "cell_type": "code",
   "execution_count": 53,
   "id": "85eafef9-18f6-4cf0-a294-6a6f977411bb",
   "metadata": {},
   "outputs": [],
   "source": [
    "def make_prediction(Age, Mother_weight, Race, Smoking_status, History_of_premature_labor, History_of_Hypertension, Presence_of_uterine_irritability,Physician_visits):\n",
    "    data = {\n",
    "        \"Age\": Age,  \n",
    "        \"Mother_weight\": Mother_weight, \n",
    "        \"Race\": Race,\n",
    "        \"Smoking_status\" : Smoking_status,                    \n",
    "        \"History_of_premature_labor\":History_of_premature_labor,\n",
    "        \"History_of_Hypertension\":History_of_Hypertension,\n",
    "        \"Presence_of_uterine_irritability\": Presence_of_uterine_irritability,\n",
    "        \"Physician_visits\": Physician_visits\n",
    "    }\n",
    "    df = pd.DataFrame(data, index=[0])\n",
    "    predicted_value = {\n",
    "        0:\"Normal birth weight\",\n",
    "        1:\"Low birth weight\"\n",
    "    }\n",
    "    \n",
    "    prediction = model.predict(df)\n",
    "    \n",
    "    my_dict = {\n",
    "        0:\"NBW\",\n",
    "        1:\"LBW\"\n",
    "    }\n",
    "    return f\"The predicted outcome is: {np.vectorize(my_dict.get)(prediction[0])}\""
   ]
  },
  {
   "cell_type": "code",
   "execution_count": 54,
   "id": "6529055a-179d-4f7b-8ecb-3dc43660f101",
   "metadata": {},
   "outputs": [
    {
     "data": {
      "text/plain": [
       "'The predicted outcome is: LBW'"
      ]
     },
     "execution_count": 54,
     "metadata": {},
     "output_type": "execute_result"
    }
   ],
   "source": [
    "make_prediction(23, 120, \"White\", \"No\", 1, \"Yes\", \"Yes\", 1)"
   ]
  }
 ],
 "metadata": {
  "kernelspec": {
   "display_name": "Python 3 (ipykernel)",
   "language": "python",
   "name": "python3"
  },
  "language_info": {
   "codemirror_mode": {
    "name": "ipython",
    "version": 3
   },
   "file_extension": ".py",
   "mimetype": "text/x-python",
   "name": "python",
   "nbconvert_exporter": "python",
   "pygments_lexer": "ipython3",
   "version": "3.9.12"
  }
 },
 "nbformat": 4,
 "nbformat_minor": 5
}
