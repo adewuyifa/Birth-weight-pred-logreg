{
 "cells": [
  {
   "cell_type": "code",
   "execution_count": 13,
   "id": "fcedfb8a-2953-4130-af62-2cb4b4384dcc",
   "metadata": {},
   "outputs": [],
   "source": [
    "import pandas as pd\n",
    "import numpy as np\n",
    "import dash\n",
    "import dash_core_components as dcc\n",
    "import dash_html_components as html\n",
    "from dash.dependencies import Input, Output, State\n",
    "from jupyter_dash import JupyterDash\n",
    "from sklearn.linear_model import LogisticRegression\n",
    "from sklearn.model_selection import train_test_split\n",
    "from sklearn.pipeline import make_pipeline\n",
    "from sklearn.utils.validation import check_is_fitted\n",
    "from category_encoders import OneHotEncoder\n"
   ]
  },
  {
   "cell_type": "markdown",
   "id": "aa5e80ff-d3bd-4473-ab74-ef6dad59cc65",
   "metadata": {},
   "source": [
    "## Import"
   ]
  },
  {
   "cell_type": "code",
   "execution_count": 14,
   "id": "9a05b664-a655-4078-8cf6-6d5fb3aa2e89",
   "metadata": {},
   "outputs": [],
   "source": [
    "def wrangle(filepath):\n",
    "    \"\"\"Read maternity data file into ``DataFrame``.\n",
    "\n",
    "    Parameters\n",
    "    ----------\n",
    "    filepath : str\n",
    "        Location of CSV file.\n",
    "    \"\"\"\n",
    "    df = pd.read_excel(filepath)\n",
    "    \n",
    "    #Drop leaky column\n",
    "    df.drop(columns=\"BWT\", inplace=True)\n",
    "    \n",
    "    #Rename columns\n",
    "    df. columns =[\"Birth_weight\", \"Age\", \"Mother_weight\", \"Race\", \"Smoking_status\",\n",
    "                  \"History_of_premature_labor\", \"History_of_Hypertension\", \"Presence_of_uterine_irritability\", \"Physician_visits\"]\n",
    "    \n",
    "    #Rename values in categorical variables columns\n",
    "    df[\"Race\"] = df[\"Race\"].map({1:\"White\", 2:\"Black\", 3:\"Others\"})\n",
    "    df[\"Smoking_status\"] = df[\"Smoking_status\"].map({0:\"No\", 1:\"Yes\"})\n",
    "    df[\"History_of_Hypertension\"] = df[\"History_of_Hypertension\"].map({0:\"No\", 1:\"Yes\"})\n",
    "    df[\"Presence_of_uterine_irritability\"] = df[\"Presence_of_uterine_irritability\"].map({0:\"No\", 1:\"Yes\"})\n",
    "    \n",
    "    return df"
   ]
  },
  {
   "cell_type": "code",
   "execution_count": 15,
   "id": "e04394d9-bc21-4b36-9d16-0c88cb0094fb",
   "metadata": {},
   "outputs": [],
   "source": [
    "df = wrangle(\"data/low_birth_weight.xls\")"
   ]
  },
  {
   "cell_type": "markdown",
   "id": "cf54cc61-f55e-4ae3-99ae-0244b696fe95",
   "metadata": {},
   "source": [
    "## Split"
   ]
  },
  {
   "cell_type": "code",
   "execution_count": 16,
   "id": "7d0299b1-7374-417c-a39d-66aa762e3714",
   "metadata": {},
   "outputs": [],
   "source": [
    "target=\"Birth_weight\"\n",
    "X = df.drop(columns=target)\n",
    "y = df[target]"
   ]
  },
  {
   "cell_type": "code",
   "execution_count": 17,
   "id": "68ee5f0c-358d-47cb-b457-5c85cfd56eeb",
   "metadata": {},
   "outputs": [],
   "source": [
    "X_train, X_test, y_train, y_test = train_test_split(\n",
    "    X, y, test_size=0.2, random_state=42\n",
    ")"
   ]
  },
  {
   "cell_type": "markdown",
   "id": "4b3160a2-16be-4be7-949a-1315e1d45ae0",
   "metadata": {},
   "source": [
    "## Build Model"
   ]
  },
  {
   "cell_type": "code",
   "execution_count": 18,
   "id": "f8d224f3-fac4-44b0-9a04-f9d9247c8e86",
   "metadata": {},
   "outputs": [
    {
     "name": "stdout",
     "output_type": "stream",
     "text": [
      "Baseline Accuracy: 0.66\n"
     ]
    }
   ],
   "source": [
    "#Baseline\n",
    "acc_baseline = y_train.value_counts(normalize=True).max()\n",
    "print(\"Baseline Accuracy:\", round(acc_baseline, 2))"
   ]
  },
  {
   "cell_type": "markdown",
   "id": "35257acb-ef88-47f0-a133-97bf37e8ca74",
   "metadata": {},
   "source": [
    "## Iterate"
   ]
  },
  {
   "cell_type": "code",
   "execution_count": 19,
   "id": "963067ca-6fb1-4fe3-9a1f-5c9612cf6411",
   "metadata": {},
   "outputs": [
    {
     "name": "stderr",
     "output_type": "stream",
     "text": [
      "C:\\Users\\Virtues\\miniconda3\\envs\\geo_ds\\lib\\site-packages\\category_encoders\\utils.py:21: FutureWarning: is_categorical is deprecated and will be removed in a future version. Use is_categorical_dtype instead.\n",
      "  elif pd.api.types.is_categorical(cols):\n"
     ]
    },
    {
     "data": {
      "text/plain": [
       "Pipeline(steps=[('onehotencoder',\n",
       "                 OneHotEncoder(cols=['Race', 'Smoking_status',\n",
       "                                     'History_of_Hypertension',\n",
       "                                     'Presence_of_uterine_irritability'],\n",
       "                               use_cat_names=True)),\n",
       "                ('logisticregression', LogisticRegression(max_iter=1000))])"
      ]
     },
     "execution_count": 19,
     "metadata": {},
     "output_type": "execute_result"
    }
   ],
   "source": [
    "#Build model\n",
    "model = make_pipeline(\n",
    "    OneHotEncoder(use_cat_names=True),\n",
    "    LogisticRegression(max_iter=1000)\n",
    ")\n",
    "#Fit model to training data\n",
    "model.fit(X_train, y_train)"
   ]
  },
  {
   "cell_type": "markdown",
   "id": "190d4a51-0840-4e54-8eef-95a61df089fd",
   "metadata": {},
   "source": [
    "## Build Dashboard"
   ]
  },
  {
   "cell_type": "code",
   "execution_count": 20,
   "id": "6cba9a7a-81e7-49a9-a819-bd23855d5c50",
   "metadata": {},
   "outputs": [],
   "source": [
    "app = JupyterDash(__name__)"
   ]
  },
  {
   "cell_type": "code",
   "execution_count": 21,
   "id": "edcf4d0e-218b-4d88-9e4c-0fee2cce3f51",
   "metadata": {},
   "outputs": [],
   "source": [
    "app.layout = html.Div([\n",
    "    dcc.Input(id='age', \n",
    "              type='number', \n",
    "              min=13, \n",
    "              max=75,\n",
    "              step=1,\n",
    "              placeholder=\"Age\"),\n",
    "    dcc.Input(id='weight', \n",
    "              type='number', \n",
    "              min=50, \n",
    "              max=600,\n",
    "              step=1,\n",
    "              placeholder=\"Weight in pounds\"),\n",
    "    dcc.Dropdown(id=\"race-id\",\n",
    "        options=[{'label':'White', 'value': 'White'},\n",
    "                 {'label':'Black', 'value': 'Black'},\n",
    "                 {'label':'Others', 'value': 'Others'}],\n",
    "        placeholder=\"Race\"\n",
    "    ),\n",
    "    dcc.Dropdown(id=\"smoke-id\",\n",
    "        options=[{'label':'Yes', 'value': 'Yes'},\n",
    "                  {'label':'No', 'value': 'No'}],\n",
    "        placeholder=\"Smoking status\"\n",
    "    ),\n",
    "    dcc.Dropdown(id=\"prem-id\",\n",
    "        options=[{'label':'None', 'value': 0},\n",
    "                 {'label':'One', 'value': 1},\n",
    "                 {'label':'Two', 'value': 2},\n",
    "                 {'label':'Three and above', 'value': 3}],\n",
    "        placeholder=\"History of premature labor\"\n",
    "    ),\n",
    "    dcc.Dropdown(id=\"hyper-id\",\n",
    "        options=[{'label':'Yes', 'value': 'Yes'},\n",
    "                 {'label':'No', 'value': 'No'}],\n",
    "        placeholder=\"History of hypertension\"\n",
    "    ),\n",
    "    dcc.Dropdown(id=\"uterine-id\",\n",
    "        options=[{'label':'Yes', 'value': 'Yes'},\n",
    "                 {'label':'No', 'value': 'No'}],\n",
    "        placeholder=\"Presence of uterine irritability\"\n",
    "    ),\n",
    "    dcc.Input(id='physician-visit', \n",
    "              type='number', \n",
    "              min=0, \n",
    "              max=20,\n",
    "              step=1,\n",
    "              placeholder=\"No. of physician visits\"),\n",
    "    html.Button('Submit', id='submit-val', n_clicks=0),\n",
    "    html.P(id=\"result-text\")\n",
    "])"
   ]
  },
  {
   "cell_type": "code",
   "execution_count": 22,
   "id": "7f440cca-2448-48ac-a9a8-5ef0fb948205",
   "metadata": {},
   "outputs": [],
   "source": [
    "@app.callback(\n",
    "    Output(\"result-text\", \"children\"),\n",
    "    Input(\"submit-val\", \"n_clicks\"),\n",
    "    State(\"age\", \"value\"),\n",
    "    State(\"weight\", \"value\"),\n",
    "    State(\"race-id\", \"value\"),\n",
    "    State(\"smoke-id\", \"value\"),\n",
    "    State(\"prem-id\", \"value\"),\n",
    "    State(\"hyper-id\", \"value\"),\n",
    "    State(\"uterine-id\", \"value\"),\n",
    "    State(\"physician-visit\", \"value\")\n",
    ")\n",
    "def make_prediction(n_clicks, Age, Mother_weight, Race, Smoking_status, History_of_premature_labor, History_of_Hypertension, Presence_of_uterine_irritability,Physician_visits):\n",
    "    data = {\n",
    "        \"Age\": Age,  \n",
    "        \"Mother_weight\": Mother_weight, \n",
    "        \"Race\": Race,\n",
    "        \"Smoking_status\" : Smoking_status,                    \n",
    "        \"History_of_premature_labor\":History_of_premature_labor,\n",
    "        \"History_of_Hypertension\":History_of_Hypertension,\n",
    "        \"Presence_of_uterine_irritability\": Presence_of_uterine_irritability,\n",
    "        \"Physician_visits\": Physician_visits\n",
    "    }\n",
    "    df = pd.DataFrame(data, index=[0])\n",
    "    predicted_value = {\n",
    "        0:\"Normal birth weight\",\n",
    "        1:\"Low birth weight\"\n",
    "    }\n",
    "    \n",
    "    prediction = model.predict(df)\n",
    "    \n",
    "    my_dict = {\n",
    "        0:\"Normal Birth Weight\",\n",
    "        1:\"Low Birth Weight\"\n",
    "    }\n",
    "    return f\"The predicted outcome is: {np.vectorize(my_dict.get)(prediction[0])}\""
   ]
  },
  {
   "cell_type": "code",
   "execution_count": 23,
   "id": "6fa09be9-b797-41ef-b14c-22f9152292c6",
   "metadata": {},
   "outputs": [
    {
     "name": "stdout",
     "output_type": "stream",
     "text": [
      "Dash app running on http://127.0.0.1:8050/\n"
     ]
    }
   ],
   "source": [
    "app.run_server(debug=True)"
   ]
  },
  {
   "cell_type": "code",
   "execution_count": null,
   "id": "a4afbbb0-6b27-4871-85a7-5fa7cf70e430",
   "metadata": {},
   "outputs": [],
   "source": []
  }
 ],
 "metadata": {
  "kernelspec": {
   "display_name": "Python 3 (ipykernel)",
   "language": "python",
   "name": "python3"
  },
  "language_info": {
   "codemirror_mode": {
    "name": "ipython",
    "version": 3
   },
   "file_extension": ".py",
   "mimetype": "text/x-python",
   "name": "python",
   "nbconvert_exporter": "python",
   "pygments_lexer": "ipython3",
   "version": "3.9.12"
  }
 },
 "nbformat": 4,
 "nbformat_minor": 5
}
